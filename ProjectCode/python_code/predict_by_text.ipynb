{
 "cells": [
  {
   "cell_type": "code",
   "execution_count": 4,
   "metadata": {},
   "outputs": [
    {
     "name": "stdout",
     "output_type": "stream",
     "text": [
      "Automatically created module for IPython interactive environment\n"
     ]
    },
    {
     "name": "stderr",
     "output_type": "stream",
     "text": [
      "/Users/ThomasChen/anaconda/lib/python3.5/site-packages/sklearn/svm/base.py:85: DeprecationWarning: gamma=0.0 has been deprecated in favor of gamma='auto' as of 0.17. Backward compatibility for gamma=0.0 will be removed in 0.18\n",
      "  DeprecationWarning)\n"
     ]
    },
    {
     "name": "stdout",
     "output_type": "stream",
     "text": [
      "The accuracy of predicting after-market trade using SVM: 0.547170\n",
      "The accuracy of predicting next-day trade using SVM: 0.622642\n",
      "The accuracy of predicting after-market trade using Naive Bayesian: 0.603774\n",
      "The accuracy of predicting next-day trade using Naive Bayesian: 0.641509\n"
     ]
    },
    {
     "data": {
      "text/plain": [
       "[<matplotlib.lines.Line2D at 0x11405b320>]"
      ]
     },
     "execution_count": 4,
     "output_type": "execute_result",
     "metadata": {}
    }
   ],
   "source": [
    "print(__doc__)\n",
    "\n",
    "import xdrlib, sys\n",
    "import numpy as np\n",
    "import matplotlib.pyplot as plt\n",
    "from sklearn import svm\n",
    "from sklearn.naive_bayes import GaussianNB\n",
    "from pylab import *\n",
    "from numpy import *\n",
    "import math\n",
    "from scipy import io\n",
    "\n",
    "def signFunc(x):\n",
    "    if x >= 0:\n",
    "        return 1\n",
    "    else:\n",
    "        return 0\n",
    "\n",
    "def accuPred(pred, real):\n",
    "    equalNum = np.sum( (pred == real) )\n",
    "    return equalNum / pred.shape[0]\n",
    "\n",
    "def normalData(data, ind):\n",
    "    normData = zeros( (data.shape[0], ind.shape[0]) )\n",
    "    for i in range(data.shape[0]):\n",
    "        sum = np.sum(data[i, ind])\n",
    "        normData[i, :] = data[i, ind] / sum\n",
    "    return normData\n",
    "\n",
    "def svmDiffTao(trainFeat, testFeat, trainLabel, testLabel):\n",
    "    x = np.arange(100) * 1 / trainFeat.shape[0]\n",
    "    y = np.arange(100)\n",
    "    for i in range(100):\n",
    "        tau = x[i]\n",
    "        clf = svm.SVC(gamma = tau)\n",
    "        clf.fit(trainFeat, trainLabel)\n",
    "        pred = clf.predict(testFeat)\n",
    "        y[i] = (accuPred(pred, testLabel))\n",
    "    plt.plot(x, y)\n",
    "    plt.show()\n",
    "\n",
    "trainData = np.load('data/article/trainData.npy')\n",
    "testData  = np.load('data/article/testData.npy')\n",
    "\n",
    "useFeat = [0, 1, 2, 3, 4]\n",
    "useFeat = np.asarray(useFeat)\n",
    "normFeat = np.asarray([0, 1, 3, 4])\n",
    "\n",
    "# the we split the data into trainig set and testing set\n",
    "trainFeat = trainData[:, useFeat]\n",
    "trainFeat = normalData(trainData, normFeat)    # normalize the data\n",
    "trainLabel1 = trainData[:, 5]\n",
    "trainLabel2 = trainData[:, 6]\n",
    "\n",
    "testFeat = testData[:, useFeat]\n",
    "testFeat = normalData(testData, normFeat)\n",
    "testLabel1 = testData[:, 5]\n",
    "testLabel2 = testData[:, 6]\n",
    "\n",
    "\n",
    "#------------------------------------------------\n",
    "#             fit the SVM model\n",
    "#------------------------------------------------\n",
    "clf1 = svm.SVC()\n",
    "clf1.fit(trainFeat, trainLabel1)   # fit the model\n",
    "\n",
    "clf2 = svm.SVC()\n",
    "clf2.fit(trainFeat, trainLabel2)\n",
    "\n",
    "svmDiffTao(trainFeat, testFeat, trainLabel1, testLabel1)\n",
    "\n",
    "# do predictions\n",
    "pred1 = clf1.predict(testFeat)    # make predictoins\n",
    "\n",
    "print(\"The accuracy of predicting after-market trade using SVM: %f\" %accuPred(pred1, testLabel1))\n",
    "\n",
    "pred2 = clf2.predict(testFeat)\n",
    "print(\"The accuracy of predicting next-day trade using SVM: %f\" %accuPred(pred2, testLabel2))\n",
    "\n",
    "#------------------------------------------------\n",
    "#           fit the Naive Bayesian model\n",
    "#------------------------------------------------\n",
    "gnb1 = GaussianNB()\n",
    "gnb1.fit(trainFeat, trainLabel1)\n",
    "\n",
    "gnb2 = GaussianNB()\n",
    "gnb2.fit(trainFeat, trainLabel2)\n",
    "\n",
    "# do predictions\n",
    "predNB1 = gnb1.predict(testFeat)    # make predictoins\n",
    "\n",
    "print(\"The accuracy of predicting after-market trade using Naive Bayesian: %f\" %accuPred(predNB1, testLabel1))\n",
    "\n",
    "predNB2 = gnb2.predict(testFeat)\n",
    "print(\"The accuracy of predicting next-day trade using Naive Bayesian: %f\" %accuPred(predNB2, testLabel2))\n",
    "\n",
    "x = np.asarray([1,2,3])\n",
    "y = np.asarray([1,2,3])\n",
    "plt.plot(x,y)"
   ]
  },
  {
   "cell_type": "code",
   "execution_count": 24,
   "metadata": {},
   "outputs": [
    {
     "name": "stderr",
     "output_type": "stream",
     "text": [
      "/Users/ThomasChen/anaconda/lib/python3.5/site-packages/sklearn/svm/base.py:85: DeprecationWarning: gamma=0.0 has been deprecated in favor of gamma='auto' as of 0.17. Backward compatibility for gamma=0.0 will be removed in 0.18\n",
      "  DeprecationWarning)\n"
     ]
    },
    {
     "data": {
      "text/plain": [
       "[<matplotlib.lines.Line2D at 0x114090208>]"
      ]
     },
     "execution_count": 24,
     "output_type": "execute_result",
     "metadata": {}
    }
   ],
   "source": [
    "x = np.arange(100) \n",
    "y = np.arange(100) * 1.0\n",
    "for i in range(100):\n",
    "    tau = x[i]\n",
    "    clf = svm.SVC(gamma = tau)\n",
    "    clf.fit(trainFeat, trainLabel1)\n",
    "    pred = clf.predict(testFeat)\n",
    "    y[i] = (accuPred(pred, testLabel1))\n",
    "plt.plot(x, y)"
   ]
  },
  {
   "cell_type": "code",
   "execution_count": 27,
   "metadata": {},
   "outputs": [],
   "source": [
    "tau = 10000000\n",
    "clf = svm.SVC(gamma = tau)\n",
    "clf.fit(trainFeat, trainLabel1)\n",
    "pred = clf.predict(testFeat)\n",
    "y = (accuPred(pred, testLabel1))"
   ]
  },
  {
   "cell_type": "code",
   "execution_count": 29,
   "metadata": {},
   "outputs": [
    {
     "data": {
      "text/plain": [
       "SVC(C=1.0, cache_size=200, class_weight=None, coef0=0.0,\n",
       "  decision_function_shape=None, degree=3, gamma=10000000, kernel='rbf',\n",
       "  max_iter=-1, probability=False, random_state=None, shrinking=True,\n",
       "  tol=0.001, verbose=False)"
      ]
     },
     "execution_count": 29,
     "output_type": "execute_result",
     "metadata": {}
    }
   ],
   "source": [
    "clf"
   ]
  },
  {
   "cell_type": "code",
   "execution_count": 11,
   "metadata": {},
   "outputs": [
    {
     "data": {
      "text/plain": [
       "array([ 1.,  0.,  1.,  0.,  0.,  1.,  1.,  1.,  1.,  0.,  1.,  0.,  0.,\n",
       "        0.,  1.,  1.,  1.,  1.,  1.,  0.,  1.,  1.,  1.,  1.,  1.,  1.,\n",
       "        1.,  0.,  0.,  1.,  0.,  1.,  0.,  0.,  0.,  1.,  0.,  1.,  1.,\n",
       "        0.,  0.,  1.,  0.,  0.,  1.,  0.,  1.,  0.,  1.,  0.,  0.,  0.,  1.])"
      ]
     },
     "execution_count": 11,
     "output_type": "execute_result",
     "metadata": {}
    }
   ],
   "source": [
    "testLabel1"
   ]
  },
  {
   "cell_type": "code",
   "execution_count": 12,
   "metadata": {},
   "outputs": [
    {
     "data": {
      "text/plain": [
       "0.54716981132075471"
      ]
     },
     "execution_count": 12,
     "output_type": "execute_result",
     "metadata": {}
    }
   ],
   "source": [
    "accuPred(pred, testLabel1)"
   ]
  },
  {
   "cell_type": "code",
   "execution_count": 17,
   "metadata": {},
   "outputs": [
    {
     "data": {
      "text/plain": [
       "array([ 0.        ,  0.00473934,  0.00947867,  0.01421801,  0.01895735,\n",
       "        0.02369668,  0.02843602,  0.03317536,  0.03791469,  0.04265403,\n",
       "        0.04739336,  0.0521327 ,  0.05687204,  0.06161137,  0.06635071,\n",
       "        0.07109005,  0.07582938,  0.08056872,  0.08530806,  0.09004739,\n",
       "        0.09478673,  0.09952607,  0.1042654 ,  0.10900474,  0.11374408,\n",
       "        0.11848341,  0.12322275,  0.12796209,  0.13270142,  0.13744076,\n",
       "        0.14218009,  0.14691943,  0.15165877,  0.1563981 ,  0.16113744,\n",
       "        0.16587678,  0.17061611,  0.17535545,  0.18009479,  0.18483412,\n",
       "        0.18957346,  0.1943128 ,  0.19905213,  0.20379147,  0.20853081,\n",
       "        0.21327014,  0.21800948,  0.22274882,  0.22748815,  0.23222749,\n",
       "        0.23696682,  0.24170616,  0.2464455 ,  0.25118483,  0.25592417,\n",
       "        0.26066351,  0.26540284,  0.27014218,  0.27488152,  0.27962085,\n",
       "        0.28436019,  0.28909953,  0.29383886,  0.2985782 ,  0.30331754,\n",
       "        0.30805687,  0.31279621,  0.31753555,  0.32227488,  0.32701422,\n",
       "        0.33175355,  0.33649289,  0.34123223,  0.34597156,  0.3507109 ,\n",
       "        0.35545024,  0.36018957,  0.36492891,  0.36966825,  0.37440758,\n",
       "        0.37914692,  0.38388626,  0.38862559,  0.39336493,  0.39810427,\n",
       "        0.4028436 ,  0.40758294,  0.41232227,  0.41706161,  0.42180095,\n",
       "        0.42654028,  0.43127962,  0.43601896,  0.44075829,  0.44549763,\n",
       "        0.45023697,  0.4549763 ,  0.45971564,  0.46445498,  0.46919431])"
      ]
     },
     "execution_count": 17,
     "output_type": "execute_result",
     "metadata": {}
    }
   ],
   "source": [
    "x"
   ]
  },
  {
   "cell_type": "code",
   "execution_count": null,
   "metadata": {},
   "outputs": [],
   "source": [
    ""
   ]
  }
 ],
 "metadata": {
  "kernelspec": {
   "display_name": "Python [Root]",
   "language": "python",
   "name": "Python [Root]"
  },
  "language_info": {
   "codemirror_mode": {
    "name": "ipython",
    "version": 3.0
   },
   "file_extension": ".py",
   "mimetype": "text/x-python",
   "name": "python",
   "nbconvert_exporter": "python",
   "pygments_lexer": "ipython3",
   "version": "3.5.2"
  }
 },
 "nbformat": 4,
 "nbformat_minor": 0
}